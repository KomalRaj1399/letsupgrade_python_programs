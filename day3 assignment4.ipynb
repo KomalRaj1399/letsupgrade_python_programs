{
 "cells": [
  {
   "cell_type": "markdown",
   "metadata": {},
   "source": [
    "# 4 Write a program to Print X Prime Numbers using While Loop starting from 0, and take the INput of X from"
   ]
  },
  {
   "cell_type": "code",
   "execution_count": 1,
   "metadata": {},
   "outputs": [
    {
     "name": "stdout",
     "output_type": "stream",
     "text": [
      "enter value12\n",
      "2\n",
      "3\n",
      "5\n",
      "7\n",
      "11\n"
     ]
    }
   ],
   "source": [
    "x=int(input(\"enter value\"))\n",
    "i = 2\n",
    "while(i < x):\n",
    "   j = 2\n",
    "   while(j <= (i/j)):\n",
    "      if(i%j)==0: \n",
    "          break\n",
    "      j = j + 1\n",
    "   if (j > i/j): \n",
    "       print (i)\n",
    "   i = i + 1"
   ]
  }
 ],
 "metadata": {
  "kernelspec": {
   "display_name": "Python 3",
   "language": "python",
   "name": "python3"
  },
  "language_info": {
   "codemirror_mode": {
    "name": "ipython",
    "version": 3
   },
   "file_extension": ".py",
   "mimetype": "text/x-python",
   "name": "python",
   "nbconvert_exporter": "python",
   "pygments_lexer": "ipython3",
   "version": "3.8.3"
  }
 },
 "nbformat": 4,
 "nbformat_minor": 4
}
