{
 "cells": [
  {
   "cell_type": "markdown",
   "metadata": {},
   "source": [
    "# 1 use ifelse and elif to write a programe in python for your report card"
   ]
  },
  {
   "cell_type": "code",
   "execution_count": 2,
   "metadata": {},
   "outputs": [
    {
     "name": "stdout",
     "output_type": "stream",
     "text": [
      "Enter the value\n",
      "5\n",
      "C Grade\n"
     ]
    }
   ],
   "source": [
    "total_grade = int(input(\"Enter the value\\n\"))\n",
    "if total_grade == 10:\n",
    "    print(\"S Grade\")\n",
    "elif total_grade == 8 & total_grade == 9:\n",
    "     print(\"A Grade\")\n",
    "elif total_grade == 6 & total_grade == 7:\n",
    "    print(\"B Grade\")\n",
    "elif total_grade == 5:\n",
    "    print(\"C Grade\")\n",
    "else:\n",
    "    print(\"Sorry You Have Lost\")"
   ]
  },
  {
   "cell_type": "code",
   "execution_count": null,
   "metadata": {},
   "outputs": [],
   "source": []
  }
 ],
 "metadata": {
  "kernelspec": {
   "display_name": "Python 3",
   "language": "python",
   "name": "python3"
  },
  "language_info": {
   "codemirror_mode": {
    "name": "ipython",
    "version": 3
   },
   "file_extension": ".py",
   "mimetype": "text/x-python",
   "name": "python",
   "nbconvert_exporter": "python",
   "pygments_lexer": "ipython3",
   "version": "3.8.3"
  }
 },
 "nbformat": 4,
 "nbformat_minor": 4
}
